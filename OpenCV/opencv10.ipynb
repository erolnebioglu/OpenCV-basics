{
 "cells": [
  {
   "cell_type": "code",
   "execution_count": 1,
   "id": "e2ea878f",
   "metadata": {},
   "outputs": [],
   "source": [
    "import cv2"
   ]
  },
  {
   "cell_type": "code",
   "execution_count": 2,
   "id": "2209fb58",
   "metadata": {},
   "outputs": [],
   "source": [
    "import numpy as np"
   ]
  },
  {
   "cell_type": "code",
   "execution_count": 3,
   "id": "a52f4df7",
   "metadata": {},
   "outputs": [],
   "source": [
    "img = cv2.imread(\"klon.jpg\",0)"
   ]
  },
  {
   "cell_type": "code",
   "execution_count": 5,
   "id": "a3259713",
   "metadata": {},
   "outputs": [],
   "source": [
    "kernel = np.ones((5,5),np.uint8)"
   ]
  },
  {
   "cell_type": "code",
   "execution_count": 17,
   "id": "5d312dab",
   "metadata": {},
   "outputs": [],
   "source": [
    "eros = cv2.erode(img,kernel,iterations = 1)\n",
    "dilat = cv2.dilate(img,kernel,iterations = 1)\n",
    "opening = cv2.morphologyEx(img,cv2.MORPH_OPEN,kernel)\n",
    "gradient = cv2.morphologyEx(img,cv2.MORPH_GRADIENT,kernel)"
   ]
  },
  {
   "cell_type": "code",
   "execution_count": 18,
   "id": "cfec954b",
   "metadata": {},
   "outputs": [],
   "source": [
    "cv2.imshow(\"eros\",eros)\n",
    "cv2.imshow(\"dilat\",dilat)\n",
    "cv2.imshow(\"opening\",opening)\n",
    "cv2.imshow(\"gradient\",gradient)\n",
    "cv2.waitKey(0)\n",
    "cv2.destroyAllWindows()"
   ]
  },
  {
   "cell_type": "code",
   "execution_count": null,
   "id": "6e4c0121",
   "metadata": {},
   "outputs": [],
   "source": []
  }
 ],
 "metadata": {
  "kernelspec": {
   "display_name": "Python 3 (ipykernel)",
   "language": "python",
   "name": "python3"
  },
  "language_info": {
   "codemirror_mode": {
    "name": "ipython",
    "version": 3
   },
   "file_extension": ".py",
   "mimetype": "text/x-python",
   "name": "python",
   "nbconvert_exporter": "python",
   "pygments_lexer": "ipython3",
   "version": "3.9.18"
  }
 },
 "nbformat": 4,
 "nbformat_minor": 5
}
