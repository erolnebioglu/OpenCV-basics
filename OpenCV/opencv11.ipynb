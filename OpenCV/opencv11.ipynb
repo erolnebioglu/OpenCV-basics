{
 "cells": [
  {
   "cell_type": "code",
   "execution_count": 4,
   "id": "4eacd273",
   "metadata": {},
   "outputs": [],
   "source": [
    "import cv2\n",
    "import numpy as np\n",
    "import matplotlib.pyplot as plt"
   ]
  },
  {
   "cell_type": "code",
   "execution_count": 11,
   "id": "d900acc5",
   "metadata": {},
   "outputs": [],
   "source": [
    "#img = np.zeros((500,500),np.uint8)\n",
    "img = cv2.imread(\"smile.jpg\")"
   ]
  },
  {
   "cell_type": "code",
   "execution_count": 14,
   "id": "95aa1d7f",
   "metadata": {},
   "outputs": [],
   "source": [
    "b,g,r = cv2.split(img)"
   ]
  },
  {
   "cell_type": "code",
   "execution_count": 15,
   "id": "3ab55736",
   "metadata": {},
   "outputs": [],
   "source": [
    "cv2.imshow(\"img\",img)\n",
    "cv2.waitKey(0)\n",
    "cv2.destroyAllWindows()"
   ]
  },
  {
   "cell_type": "code",
   "execution_count": 16,
   "id": "5bc05c53",
   "metadata": {},
   "outputs": [
    {
     "data": {
      "text/plain": [
       "(array([ 158.,    8.,    8.,    9.,   10.,   17.,   21.,   11.,   14.,\n",
       "          15.,   20.,   21.,   27.,   34.,   71.,  232.,  542., 1088.,\n",
       "         916.,  698.,  609.,  565.,  600.,  664.,  650.,  695.,  801.,\n",
       "         824.,  757.,  828.,  784.,  705.,  629.,  646.,  637.,  602.,\n",
       "         553.,  556.,  605.,  553.,  540.,  553.,  552.,  558.,  476.,\n",
       "         477.,  483.,  468.,  429.,  419.,  441.,  374.,  374.,  381.,\n",
       "         385.,  360.,  350.,  325.,  285.,  317.,  309.,  291.,  273.,\n",
       "         246.,  252.,  230.,  238.,  223.,  244.,  247.,  218.,  207.,\n",
       "         234.,  225.,  246.,  237.,  264.,  314.,  256.,  281.,  339.,\n",
       "         306.,  301.,  303.,  309.,  255.,  314.,  317.,  289.,  287.,\n",
       "         285.,  339.,  354.,  398.,  385.,  400.,  413.,  482.,  477.,\n",
       "         509.,  553.,  573.,  615.,  647.,  678.,  866., 1044., 1067.,\n",
       "        1134., 1444., 1771., 1768., 1581., 1665., 1458., 1433., 1111.,\n",
       "         950.,  902.,  902.,  743.,  811.,  847.,  761.,  711.,  743.,\n",
       "         837.,  781.,  866.,  833.,  863.,  858.,  980.,  915.,  815.,\n",
       "         802.,  888.,  766.,  803.,  838.,  755.,  704.,  708.,  767.,\n",
       "         677.,  738.,  700.,  700.,  875.,  950.,  823.,  932.,  971.,\n",
       "         932., 1029., 1060., 1105., 1103., 1131.,  985., 1148., 1359.,\n",
       "        1415., 1502., 1688., 1656., 1464., 1339., 1539., 1732., 1632.,\n",
       "        1856., 1688., 1859., 1839., 1838., 1933., 2272., 2257., 2222.,\n",
       "        2235., 2001., 1937., 2053., 1902., 1795., 1784., 1770., 1847.,\n",
       "        1906., 1676., 1840., 2114., 2180., 1986., 2231., 1876., 1991.,\n",
       "        1721., 1780., 2040., 1963., 1789., 1956., 1616., 1749., 2035.,\n",
       "        2228., 1964., 2182., 1842., 1749., 1879., 1575., 1702., 2058.,\n",
       "        2083., 2123., 2505., 1833., 2363., 2689., 2131., 2294., 2424.,\n",
       "        2260., 2216., 1809., 1966., 2252., 1805., 2058., 1735., 2591.,\n",
       "        3864., 1760., 1383., 1159., 1384., 1420., 1500., 1666., 1669.,\n",
       "        1965., 2156., 2149., 2085., 2193., 2410., 2408., 1976., 1464.,\n",
       "         860.,  417.,  199.,  131.]),\n",
       " array([  0.,   1.,   2.,   3.,   4.,   5.,   6.,   7.,   8.,   9.,  10.,\n",
       "         11.,  12.,  13.,  14.,  15.,  16.,  17.,  18.,  19.,  20.,  21.,\n",
       "         22.,  23.,  24.,  25.,  26.,  27.,  28.,  29.,  30.,  31.,  32.,\n",
       "         33.,  34.,  35.,  36.,  37.,  38.,  39.,  40.,  41.,  42.,  43.,\n",
       "         44.,  45.,  46.,  47.,  48.,  49.,  50.,  51.,  52.,  53.,  54.,\n",
       "         55.,  56.,  57.,  58.,  59.,  60.,  61.,  62.,  63.,  64.,  65.,\n",
       "         66.,  67.,  68.,  69.,  70.,  71.,  72.,  73.,  74.,  75.,  76.,\n",
       "         77.,  78.,  79.,  80.,  81.,  82.,  83.,  84.,  85.,  86.,  87.,\n",
       "         88.,  89.,  90.,  91.,  92.,  93.,  94.,  95.,  96.,  97.,  98.,\n",
       "         99., 100., 101., 102., 103., 104., 105., 106., 107., 108., 109.,\n",
       "        110., 111., 112., 113., 114., 115., 116., 117., 118., 119., 120.,\n",
       "        121., 122., 123., 124., 125., 126., 127., 128., 129., 130., 131.,\n",
       "        132., 133., 134., 135., 136., 137., 138., 139., 140., 141., 142.,\n",
       "        143., 144., 145., 146., 147., 148., 149., 150., 151., 152., 153.,\n",
       "        154., 155., 156., 157., 158., 159., 160., 161., 162., 163., 164.,\n",
       "        165., 166., 167., 168., 169., 170., 171., 172., 173., 174., 175.,\n",
       "        176., 177., 178., 179., 180., 181., 182., 183., 184., 185., 186.,\n",
       "        187., 188., 189., 190., 191., 192., 193., 194., 195., 196., 197.,\n",
       "        198., 199., 200., 201., 202., 203., 204., 205., 206., 207., 208.,\n",
       "        209., 210., 211., 212., 213., 214., 215., 216., 217., 218., 219.,\n",
       "        220., 221., 222., 223., 224., 225., 226., 227., 228., 229., 230.,\n",
       "        231., 232., 233., 234., 235., 236., 237., 238., 239., 240., 241.,\n",
       "        242., 243., 244., 245., 246., 247., 248., 249., 250., 251., 252.,\n",
       "        253., 254., 255., 256.]),\n",
       " <BarContainer object of 256 artists>)"
      ]
     },
     "execution_count": 16,
     "metadata": {},
     "output_type": "execute_result"
    },
    {
     "data": {
      "image/png": "[encoded data removed]",
      "text/plain": [
       "<Figure size 640x480 with 1 Axes>"
      ]
     },
     "metadata": {},
     "output_type": "display_data"
    }
   ],
   "source": [
    "plt.hist(img.ravel(),256,[0,256])\n",
    "plt.hist(b.ravel(),256,[0,256])\n",
    "plt.hist(g.ravel(),256,[0,256])\n",
    "plt.hist(r.ravel(),256,[0,256])"
   ]
  },
  {
   "cell_type": "code",
   "execution_count": null,
   "id": "3d05f0b5",
   "metadata": {},
   "outputs": [],
   "source": []
  }
 ],
 "metadata": {
  "kernelspec": {
   "display_name": "Python 3 (ipykernel)",
   "language": "python",
   "name": "python3"
  },
  "language_info": {
   "codemirror_mode": {
    "name": "ipython",
    "version": 3
   },
   "file_extension": ".py",
   "mimetype": "text/x-python",
   "name": "python",
   "nbconvert_exporter": "python",
   "pygments_lexer": "ipython3",
   "version": "3.9.18"
  }
 },
 "nbformat": 4,
 "nbformat_minor": 5
}
