{
 "cells": [
  {
   "cell_type": "code",
   "execution_count": 2,
   "id": "4740b3e3",
   "metadata": {},
   "outputs": [],
   "source": [
    "import cv2\n",
    "import numpy as np"
   ]
  },
  {
   "cell_type": "code",
   "execution_count": 24,
   "id": "3046f89c",
   "metadata": {},
   "outputs": [],
   "source": [
    "img1 = cv2.imread(\"text.png\")\n",
    "img2 = cv2.imread(\"contour.png\")"
   ]
  },
  {
   "cell_type": "code",
   "execution_count": 25,
   "id": "9138f63b",
   "metadata": {},
   "outputs": [],
   "source": [
    "gray1 = cv2.cvtColor(img1,cv2.COLOR_BGR2GRAY)\n",
    "gray2 = cv2.cvtColor(img2,cv2.COLOR_BGR2GRAY)\n",
    "\n",
    "gray1 = np.float32(gray1)\n",
    "gray2 = np.float32(gray2)"
   ]
  },
  {
   "cell_type": "code",
   "execution_count": 30,
   "id": "827ca50d",
   "metadata": {},
   "outputs": [],
   "source": [
    "corners1 = cv2.goodFeaturesToTrack(gray1,200,0.01,10)\n",
    "corners2 = cv2.goodFeaturesToTrack(gray2,50,0.01,10)"
   ]
  },
  {
   "cell_type": "code",
   "execution_count": 31,
   "id": "84a9495d",
   "metadata": {},
   "outputs": [],
   "source": [
    "corners1 = np.int_(corners1)\n",
    "corners2 = np.int_(corners2)"
   ]
  },
  {
   "cell_type": "code",
   "execution_count": 32,
   "id": "6de8cd3a",
   "metadata": {},
   "outputs": [],
   "source": [
    "for corner in corners1:\n",
    "    x,y = corner.ravel()\n",
    "    cv2.circle(img1,(x,y),3,(0,0,255),-1)\n",
    "\n",
    "for corners in corners2:\n",
    "    x,y = corners.ravel()\n",
    "    cv2.circle(img2,(x,y),3,(0,0,255),-1)    \n",
    "\n",
    "cv2.imshow(\"corner\",img1)\n",
    "cv2.imshow(\"corners\",img2)\n",
    "cv2.waitKey(0)\n",
    "cv2.destroyAllWindows()"
   ]
  },
  {
   "cell_type": "code",
   "execution_count": null,
   "id": "e794be75",
   "metadata": {},
   "outputs": [],
   "source": []
  }
 ],
 "metadata": {
  "kernelspec": {
   "display_name": "Python 3 (ipykernel)",
   "language": "python",
   "name": "python3"
  },
  "language_info": {
   "codemirror_mode": {
    "name": "ipython",
    "version": 3
   },
   "file_extension": ".py",
   "mimetype": "text/x-python",
   "name": "python",
   "nbconvert_exporter": "python",
   "pygments_lexer": "ipython3",
   "version": "3.9.18"
  }
 },
 "nbformat": 4,
 "nbformat_minor": 5
}
