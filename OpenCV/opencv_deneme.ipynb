{
 "cells": [
  {
   "cell_type": "code",
   "execution_count": 1,
   "id": "db24a92f",
   "metadata": {},
   "outputs": [],
   "source": [
    "import matplotlib.pyplot as plt"
   ]
  },
  {
   "cell_type": "code",
   "execution_count": 2,
   "id": "931bdf64",
   "metadata": {},
   "outputs": [],
   "source": [
    "import numpy as np"
   ]
  },
  {
   "cell_type": "code",
   "execution_count": 3,
   "id": "ed9fc391",
   "metadata": {},
   "outputs": [],
   "source": [
    "import cv2"
   ]
  },
  {
   "cell_type": "code",
   "execution_count": 4,
   "id": "d31d6035",
   "metadata": {},
   "outputs": [],
   "source": [
    "img = cv2.imread(\"klon.jpg\")"
   ]
  },
  {
   "cell_type": "code",
   "execution_count": 5,
   "id": "c71d3533",
   "metadata": {},
   "outputs": [
    {
     "data": {
      "text/plain": [
       "array([[[163, 171, 188],\n",
       "        [ 65,  70,  79],\n",
       "        [ 88,  84,  83],\n",
       "        ...,\n",
       "        [203, 202, 211],\n",
       "        [202, 201, 210],\n",
       "        [200, 199, 208]],\n",
       "\n",
       "       [[147, 154, 171],\n",
       "        [ 54,  56,  67],\n",
       "        [ 70,  66,  65],\n",
       "        ...,\n",
       "        [206, 205, 214],\n",
       "        [205, 204, 213],\n",
       "        [204, 203, 212]],\n",
       "\n",
       "       [[132, 136, 154],\n",
       "        [ 49,  49,  61],\n",
       "        [ 63,  58,  57],\n",
       "        ...,\n",
       "        [203, 201, 207],\n",
       "        [203, 201, 207],\n",
       "        [202, 200, 206]],\n",
       "\n",
       "       ...,\n",
       "\n",
       "       [[129, 120, 111],\n",
       "        [127, 118, 109],\n",
       "        [126, 117, 108],\n",
       "        ...,\n",
       "        [ 84,  79,  80],\n",
       "        [ 87,  82,  83],\n",
       "        [ 87,  82,  83]],\n",
       "\n",
       "       [[129, 120, 111],\n",
       "        [126, 117, 108],\n",
       "        [124, 115, 106],\n",
       "        ...,\n",
       "        [ 84,  79,  80],\n",
       "        [ 80,  75,  76],\n",
       "        [ 86,  81,  82]],\n",
       "\n",
       "       [[128, 119, 110],\n",
       "        [124, 115, 106],\n",
       "        [123, 114, 105],\n",
       "        ...,\n",
       "        [ 85,  80,  81],\n",
       "        [ 81,  76,  77],\n",
       "        [ 87,  82,  83]]], dtype=uint8)"
      ]
     },
     "execution_count": 5,
     "metadata": {},
     "output_type": "execute_result"
    }
   ],
   "source": [
    "img"
   ]
  },
  {
   "cell_type": "code",
   "execution_count": 9,
   "id": "3ff6c20d",
   "metadata": {},
   "outputs": [],
   "source": [
    "cv2.namedWindow(\"image\",cv2.WINDOW_NORMAL)\n",
    "cv2.imshow(\"image\",img)\n",
    "cv2.imwrite(\"klon2.jpg\",img)\n",
    "cv2.waitKey(0)\n",
    "cv2.destroyAllWindows()"
   ]
  },
  {
   "cell_type": "code",
   "execution_count": 4,
   "id": "1cad5ab5",
   "metadata": {},
   "outputs": [],
   "source": [
    "import cv2"
   ]
  },
  {
   "cell_type": "code",
   "execution_count": 5,
   "id": "782a3742",
   "metadata": {},
   "outputs": [],
   "source": [
    "cap = cv2.VideoCapture(0)\n",
    "while True:\n",
    "    ret,frame = cap.read()\n",
    "    frame = cv2.flip(frame,1)\n",
    "    cv2.imshow(\"Webcam\",frame)\n",
    "    if cv2.waitKey(1) & 0xFF == ord(\"q\"):\n",
    "        break\n",
    "    \n",
    "cap.release()\n",
    "cv2.destroyAllWindows()"
   ]
  },
  {
   "cell_type": "code",
   "execution_count": 6,
   "id": "60407bc3",
   "metadata": {},
   "outputs": [],
   "source": [
    "#kaydetme"
   ]
  },
  {
   "cell_type": "code",
   "execution_count": 27,
   "id": "ccb27037",
   "metadata": {},
   "outputs": [],
   "source": [
    "cap = cv2.VideoCapture(0,cv2.CAP_DSHOW)\n",
    "fileName = \"D:\\opencv\\webcam1.avi\"\n",
    "codec = cv2.VideoWriter_fourcc(\"W\",\"M\",\"V\",\"2\")\n",
    "frameRate=15\n",
    "resolution=(640,480)\n",
    "\n",
    "\n",
    "videoFileOut = cv2.VideoWriter(fileName,codec,frameRate,resolution)"
   ]
  },
  {
   "cell_type": "code",
   "execution_count": 28,
   "id": "ccf1da13",
   "metadata": {},
   "outputs": [],
   "source": [
    "while True:\n",
    "    ret ,frame = cap.read()\n",
    "    frame = cv2.flip(frame,1)\n",
    "    videoFileOut.write(frame)\n",
    "    cv2.imshow(\"webcam live\",frame)\n",
    "    if cv2.waitKey(1) & 0xFF == ord(\"q\"):\n",
    "        break\n",
    "\n",
    "videoFileOut.release()\n",
    "cap.release()\n",
    "cv2.destroyAllWindows()\n"
   ]
  },
  {
   "cell_type": "code",
   "execution_count": null,
   "id": "e389b925",
   "metadata": {},
   "outputs": [],
   "source": []
  }
 ],
 "metadata": {
  "kernelspec": {
   "display_name": "Python 3 (ipykernel)",
   "language": "python",
   "name": "python3"
  },
  "language_info": {
   "codemirror_mode": {
    "name": "ipython",
    "version": 3
   },
   "file_extension": ".py",
   "mimetype": "text/x-python",
   "name": "python",
   "nbconvert_exporter": "python",
   "pygments_lexer": "ipython3",
   "version": "3.9.18"
  }
 },
 "nbformat": 4,
 "nbformat_minor": 5
}
