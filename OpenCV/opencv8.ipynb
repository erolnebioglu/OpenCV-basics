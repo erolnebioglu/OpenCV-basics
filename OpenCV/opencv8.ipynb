{
 "cells": [
  {
   "cell_type": "code",
   "execution_count": 1,
   "id": "ef187cfe",
   "metadata": {},
   "outputs": [],
   "source": [
    "import cv2\n",
    "import numpy as np"
   ]
  },
  {
   "cell_type": "code",
   "execution_count": 2,
   "id": "0a28e107",
   "metadata": {},
   "outputs": [],
   "source": [
    "imgFilter = cv2.imread(\"filter.png\")\n",
    "imgMedian = cv2.imread(\"median.png\")\n",
    "imgBilateral = cv2.imread(\"bilateral.png\")"
   ]
  },
  {
   "cell_type": "code",
   "execution_count": 13,
   "id": "29649f7a",
   "metadata": {},
   "outputs": [],
   "source": [
    "blur = cv2.blur(imgFilter,(5,5))\n",
    "blur2 = cv2.GaussianBlur(imgFilter,(5,5),cv2.BORDER_DEFAULT)"
   ]
  },
  {
   "cell_type": "code",
   "execution_count": 14,
   "id": "655c0a24",
   "metadata": {},
   "outputs": [],
   "source": [
    "cv2.imshow(\"blur\",blur)\n",
    "cv2.imshow(\"original\",imgFilter)\n",
    "cv2.imshow(\"blur2\",blur2)\n",
    "cv2.waitKey(0)\n",
    "cv2.destroyAllWindows()"
   ]
  },
  {
   "cell_type": "code",
   "execution_count": null,
   "id": "9a3b7090",
   "metadata": {},
   "outputs": [],
   "source": []
  }
 ],
 "metadata": {
  "kernelspec": {
   "display_name": "Python 3 (ipykernel)",
   "language": "python",
   "name": "python3"
  },
  "language_info": {
   "codemirror_mode": {
    "name": "ipython",
    "version": 3
   },
   "file_extension": ".py",
   "mimetype": "text/x-python",
   "name": "python",
   "nbconvert_exporter": "python",
   "pygments_lexer": "ipython3",
   "version": "3.9.18"
  }
 },
 "nbformat": 4,
 "nbformat_minor": 5
}
