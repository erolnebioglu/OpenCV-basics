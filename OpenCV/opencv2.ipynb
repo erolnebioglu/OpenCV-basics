{
 "cells": [
  {
   "cell_type": "code",
   "execution_count": 10,
   "id": "92be97dc",
   "metadata": {},
   "outputs": [],
   "source": [
    "import cv2"
   ]
  },
  {
   "cell_type": "code",
   "execution_count": 11,
   "id": "435a7f19",
   "metadata": {},
   "outputs": [],
   "source": [
    "import numpy as np"
   ]
  },
  {
   "cell_type": "code",
   "execution_count": 3,
   "id": "c1c994f2",
   "metadata": {},
   "outputs": [],
   "source": [
    "path = \"opencvimg.png\""
   ]
  },
  {
   "cell_type": "code",
   "execution_count": 4,
   "id": "35ea7425",
   "metadata": {},
   "outputs": [
    {
     "name": "stdout",
     "output_type": "stream",
     "text": [
      "[[[255 255 255]\n",
      "  [255 255 255]\n",
      "  [255 255 255]\n",
      "  ...\n",
      "  [255 255 255]\n",
      "  [255 255 255]\n",
      "  [255 255 255]]\n",
      "\n",
      " [[255 255 255]\n",
      "  [255 255 255]\n",
      "  [255 255 255]\n",
      "  ...\n",
      "  [255 255 255]\n",
      "  [255 255 255]\n",
      "  [255 255 255]]\n",
      "\n",
      " [[255 255 255]\n",
      "  [255 255 255]\n",
      "  [255 255 255]\n",
      "  ...\n",
      "  [255 255 255]\n",
      "  [255 255 255]\n",
      "  [255 255 255]]\n",
      "\n",
      " ...\n",
      "\n",
      " [[255 255 255]\n",
      "  [255 255 255]\n",
      "  [255 255 255]\n",
      "  ...\n",
      "  [255 255 255]\n",
      "  [255 255 255]\n",
      "  [255 255 255]]\n",
      "\n",
      " [[255 255 255]\n",
      "  [255 255 255]\n",
      "  [255 255 255]\n",
      "  ...\n",
      "  [255 255 255]\n",
      "  [255 255 255]\n",
      "  [255 255 255]]\n",
      "\n",
      " [[255 255 255]\n",
      "  [255 255 255]\n",
      "  [255 255 255]\n",
      "  ...\n",
      "  [255 255 255]\n",
      "  [255 255 255]\n",
      "  [255 255 255]]]\n"
     ]
    }
   ],
   "source": [
    "img = cv2.imread(path)\n",
    "print(img)"
   ]
  },
  {
   "cell_type": "code",
   "execution_count": 5,
   "id": "d01ec7bd",
   "metadata": {},
   "outputs": [
    {
     "data": {
      "text/plain": [
       "array([255, 255, 255], dtype=uint8)"
      ]
     },
     "execution_count": 5,
     "metadata": {},
     "output_type": "execute_result"
    }
   ],
   "source": [
    "img[0,0]"
   ]
  },
  {
   "cell_type": "code",
   "execution_count": 6,
   "id": "655813e6",
   "metadata": {},
   "outputs": [
    {
     "data": {
      "text/plain": [
       "array([255, 255, 255], dtype=uint8)"
      ]
     },
     "execution_count": 6,
     "metadata": {},
     "output_type": "execute_result"
    }
   ],
   "source": [
    "img[40,50]"
   ]
  },
  {
   "cell_type": "code",
   "execution_count": 7,
   "id": "d91e1cf0",
   "metadata": {},
   "outputs": [],
   "source": [
    "(b,g,r) = img[50,30]"
   ]
  },
  {
   "cell_type": "code",
   "execution_count": 8,
   "id": "ea8587d7",
   "metadata": {},
   "outputs": [
    {
     "name": "stdout",
     "output_type": "stream",
     "text": [
      "(0,0) - Red: 255,Green:255 ,Blue:255\n"
     ]
    }
   ],
   "source": [
    "print(\"(0,0) - Red: {},Green:{} ,Blue:{}\".format(r,g,b))"
   ]
  },
  {
   "cell_type": "code",
   "execution_count": 9,
   "id": "fb3ee01c",
   "metadata": {},
   "outputs": [],
   "source": [
    "blue = img[100,100,0]"
   ]
  },
  {
   "cell_type": "code",
   "execution_count": 10,
   "id": "f1e36b5b",
   "metadata": {},
   "outputs": [
    {
     "data": {
      "text/plain": [
       "255"
      ]
     },
     "execution_count": 10,
     "metadata": {},
     "output_type": "execute_result"
    }
   ],
   "source": [
    "blue"
   ]
  },
  {
   "cell_type": "code",
   "execution_count": 11,
   "id": "d16eb126",
   "metadata": {},
   "outputs": [],
   "source": [
    "green = img[100,100,1]"
   ]
  },
  {
   "cell_type": "code",
   "execution_count": 12,
   "id": "7d16bf46",
   "metadata": {},
   "outputs": [
    {
     "data": {
      "text/plain": [
       "255"
      ]
     },
     "execution_count": 12,
     "metadata": {},
     "output_type": "execute_result"
    }
   ],
   "source": [
    "green"
   ]
  },
  {
   "cell_type": "code",
   "execution_count": 14,
   "id": "69303be9",
   "metadata": {},
   "outputs": [
    {
     "data": {
      "text/plain": [
       "255"
      ]
     },
     "execution_count": 14,
     "metadata": {},
     "output_type": "execute_result"
    }
   ],
   "source": [
    "img.item(100,100,2)"
   ]
  },
  {
   "cell_type": "code",
   "execution_count": 15,
   "id": "7fe3af58",
   "metadata": {},
   "outputs": [],
   "source": [
    "img.itemset((100,100,2),100)"
   ]
  },
  {
   "cell_type": "code",
   "execution_count": 16,
   "id": "0cd68600",
   "metadata": {},
   "outputs": [
    {
     "data": {
      "text/plain": [
       "100"
      ]
     },
     "execution_count": 16,
     "metadata": {},
     "output_type": "execute_result"
    }
   ],
   "source": [
    "img.item(100,100,2)"
   ]
  },
  {
   "cell_type": "code",
   "execution_count": 3,
   "id": "69d084f1",
   "metadata": {},
   "outputs": [],
   "source": [
    "import matplotlib.pyplot as plt"
   ]
  },
  {
   "cell_type": "code",
   "execution_count": 12,
   "id": "55118cac",
   "metadata": {},
   "outputs": [],
   "source": [
    "img = cv2.imread(\"yesiltepe.jpg\")\n",
    "corner = img[0:100,0:100] #[y.axis,x.axis]"
   ]
  },
  {
   "cell_type": "code",
   "execution_count": 13,
   "id": "120fa54d",
   "metadata": {},
   "outputs": [
    {
     "data": {
      "text/plain": [
       "array([[[251, 242, 233],\n",
       "        [252, 243, 234],\n",
       "        [252, 243, 234],\n",
       "        ...,\n",
       "        [242, 229, 221],\n",
       "        [242, 230, 220],\n",
       "        [242, 230, 220]],\n",
       "\n",
       "       [[251, 242, 233],\n",
       "        [252, 243, 234],\n",
       "        [252, 243, 234],\n",
       "        ...,\n",
       "        [243, 230, 222],\n",
       "        [242, 230, 220],\n",
       "        [242, 230, 220]],\n",
       "\n",
       "       [[251, 242, 233],\n",
       "        [251, 242, 233],\n",
       "        [252, 243, 234],\n",
       "        ...,\n",
       "        [243, 230, 222],\n",
       "        [243, 230, 222],\n",
       "        [243, 230, 222]],\n",
       "\n",
       "       ...,\n",
       "\n",
       "       [[ 28,  23,  24],\n",
       "        [ 29,  24,  25],\n",
       "        [ 29,  24,  25],\n",
       "        ...,\n",
       "        [ 45,  59,  65],\n",
       "        [ 50,  64,  70],\n",
       "        [ 57,  71,  77]],\n",
       "\n",
       "       [[ 28,  23,  24],\n",
       "        [ 30,  25,  26],\n",
       "        [ 30,  25,  26],\n",
       "        ...,\n",
       "        [ 27,  41,  47],\n",
       "        [ 34,  48,  54],\n",
       "        [ 45,  59,  65]],\n",
       "\n",
       "       [[ 29,  24,  25],\n",
       "        [ 29,  24,  25],\n",
       "        [ 29,  24,  25],\n",
       "        ...,\n",
       "        [ 14,  26,  32],\n",
       "        [ 17,  29,  35],\n",
       "        [ 24,  36,  42]]], dtype=uint8)"
      ]
     },
     "execution_count": 13,
     "metadata": {},
     "output_type": "execute_result"
    }
   ],
   "source": [
    "img"
   ]
  },
  {
   "cell_type": "code",
   "execution_count": 9,
   "id": "3688cb80",
   "metadata": {},
   "outputs": [],
   "source": [
    "cv2.imshow(\"test\",img)\n",
    "cv2.imshow(\"corner\",corner)\n",
    "cv2.waitKey(0)\n",
    "cv2.destroyAllWindows()"
   ]
  },
  {
   "cell_type": "code",
   "execution_count": 16,
   "id": "037d6428",
   "metadata": {},
   "outputs": [
    {
     "name": "stdout",
     "output_type": "stream",
     "text": [
      "(608, 1400, 3)\n"
     ]
    }
   ],
   "source": [
    "img = cv2.imread(\"opencvimg.png\")\n",
    "\n",
    "print(img.shape) #height , width , channel\n",
    "#channel=3 -->color\n",
    "#channel=1 -->grayscale"
   ]
  },
  {
   "cell_type": "code",
   "execution_count": 17,
   "id": "c6333e03",
   "metadata": {},
   "outputs": [],
   "source": [
    "cv2.imshow(\"resim\",img)\n",
    "cv2.waitKey(0)\n",
    "cv2.destroyAllWindows()"
   ]
  },
  {
   "cell_type": "code",
   "execution_count": 26,
   "id": "65c34946",
   "metadata": {},
   "outputs": [
    {
     "name": "stdout",
     "output_type": "stream",
     "text": [
      "(1369, 2048, 3)\n"
     ]
    }
   ],
   "source": [
    "img = cv2.imread(\"yesiltepe.jpg\")\n",
    "print(img.shape)\n",
    "\n",
    "roi = img[0:500,0:500]"
   ]
  },
  {
   "cell_type": "code",
   "execution_count": 25,
   "id": "62a7fc67",
   "metadata": {},
   "outputs": [],
   "source": [
    "cv2.imshow(\"yesiltepe\",img)\n",
    "cv2.imshow(\"roi\",roi)\n",
    "cv2.waitKey(0)\n",
    "cv2.destroyAllWindows()"
   ]
  },
  {
   "cell_type": "code",
   "execution_count": null,
   "id": "b4cf0394",
   "metadata": {},
   "outputs": [],
   "source": []
  }
 ],
 "metadata": {
  "kernelspec": {
   "display_name": "Python 3 (ipykernel)",
   "language": "python",
   "name": "python3"
  },
  "language_info": {
   "codemirror_mode": {
    "name": "ipython",
    "version": 3
   },
   "file_extension": ".py",
   "mimetype": "text/x-python",
   "name": "python",
   "nbconvert_exporter": "python",
   "pygments_lexer": "ipython3",
   "version": "3.9.18"
  }
 },
 "nbformat": 4,
 "nbformat_minor": 5
}
