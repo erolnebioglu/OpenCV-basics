{
 "cells": [
  {
   "cell_type": "code",
   "execution_count": 4,
   "id": "60cbfa28",
   "metadata": {},
   "outputs": [],
   "source": [
    "import cv2\n",
    "import numpy as np\n",
    "import matplotlib.pyplot as plt"
   ]
  },
  {
   "cell_type": "code",
   "execution_count": 9,
   "id": "aed9f17d",
   "metadata": {},
   "outputs": [],
   "source": [
    "img = cv2.imread(\"klon.jpg\",0)"
   ]
  },
  {
   "cell_type": "code",
   "execution_count": 25,
   "id": "bd5c1cd5",
   "metadata": {},
   "outputs": [],
   "source": [
    "ret,th1 = cv2.threshold(img,150,255,cv2.THRESH_BINARY)\n",
    "th2 = cv2.adaptiveThreshold(img,255,cv2.ADAPTIVE_THRESH_MEAN_C,cv2.THRESH_BINARY,11,2)\n",
    "th3 = cv2.adaptiveThreshold(img,255,cv2.ADAPTIVE_THRESH_GAUSSIAN_C,cv2.THRESH_BINARY,11,2)"
   ]
  },
  {
   "cell_type": "code",
   "execution_count": 26,
   "id": "23e783f1",
   "metadata": {},
   "outputs": [],
   "source": [
    "cv2.imshow(\"th1\",th1)\n",
    "cv2.imshow(\"th2\",th2)\n",
    "cv2.imshow(\"th3\",th3)\n",
    "cv2.waitKey(0)\n",
    "cv2.destroyAllWindows()"
   ]
  },
  {
   "cell_type": "code",
   "execution_count": null,
   "id": "b721e926",
   "metadata": {},
   "outputs": [],
   "source": []
  }
 ],
 "metadata": {
  "kernelspec": {
   "display_name": "Python 3 (ipykernel)",
   "language": "python",
   "name": "python3"
  },
  "language_info": {
   "codemirror_mode": {
    "name": "ipython",
    "version": 3
   },
   "file_extension": ".py",
   "mimetype": "text/x-python",
   "name": "python",
   "nbconvert_exporter": "python",
   "pygments_lexer": "ipython3",
   "version": "3.9.18"
  }
 },
 "nbformat": 4,
 "nbformat_minor": 5
}
